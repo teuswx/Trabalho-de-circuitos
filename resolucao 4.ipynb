{
  "metadata": {
    "kernelspec": {
      "name": "python",
      "display_name": "Python (Pyodide)",
      "language": "python"
    },
    "language_info": {
      "codemirror_mode": {
        "name": "python",
        "version": 3
      },
      "file_extension": ".py",
      "mimetype": "text/x-python",
      "name": "python",
      "nbconvert_exporter": "python",
      "pygments_lexer": "ipython3",
      "version": "3.8"
    }
  },
  "nbformat_minor": 5,
  "nbformat": 4,
  "cells": [
    {
      "cell_type": "markdown",
      "source": "# Resolução do Exemplo 2 da Aula 3 - Problema 2.25 8ª ed. do livro do Riedel\n\nPode ser modelado pelas leis de Ohm, Kirchoff da Corrente nos Nós e Kirchoff da Tensão nas Malhas para o seguinte sistema linear:\n\n$$\n   \\begin{cases}\n        1V_a + 0V_b + 0V_c + 0V_d + 0V_e + 0V_f + 0V_g + 0V_h + 0V_i -9i_1 + 0i_2 + 0i_3 + 0i_4 + 0i_5 = 0\\\\\n        0V_a + 1V_b + 0V_c + 0V_d + 0V_e + 0V_f + 0V_g + 0V_h + 0V_i -11i_1 + 0i_2 + 0i_3 + 0i_4 + 0i_5 = 0\\\\\n        0V_a + 0V_b + 1V_c + 0V_d + 0V_e + 0V_f + 0V_g + 0V_h + 0V_i - 10i_1 + 0i_2 + 0i_3 + 0i_4 + 0i_5 = 0\\\\\n        0V_a + 0V_b + 0V_c + 1V_d + 0V_e + 0V_f + 0V_g + 0V_h + 0V_i + 0i_1 + 0i_2 + 0i_3 + 0i_4 -4i_5 = 0\\\\\n        0V_a + 0V_b + 0V_c + 0V_d + 1V_e + 0V_f + 0V_g + 0V_h + 0V_i + i_1 + 0i_2 + 0i_3 + 0i_4 -16i_5 = 0\\\\\n        0V_a + 0V_b + 0V_c + 0V_d + 0V_e + 1V_f + 0V_g + 0V_h + 0V_i + 0i_1 + 0i_2 + 0i_3 + 0i_4 + 0i_5 = 60\\\\\n        0V_a + 0V_b + 0V_c + 0V_d + 0V_e + 0V_f + 0V_g + 1V_h + 0V_i + 0i_1 - 5i_2 + 0i_3 + 0i_4 + 0i_5 = 0\\\\\n        0V_a + 0V_b + 0V_c + 0V_d + 0V_e + 0V_f + 0V_g + 0V_h + 1V_i + 0i_1 + 0i_2 -30i_3 + 0i_4 + 0i_5 = 0\\\\\n        0V_a + 0V_b + 0V_c + 0V_d + 0V_e + 0V_f + 0V_g + 0V_h + 0V_i + 1i_1 + 1i_2 + 0i_3 + 0i_4 + 0i_5 = -4\\\\\n        0V_a + 0V_b + 0V_c + 0V_d + 0V_e + 0V_f + 0V_g + 0V_h + 0V_i + 0i_1 + 1i_2 -1i_3 -1i_4 + 0i_5 = 0\\\\\n        0V_a + 0V_b + 0V_c + 0V_d + 0V_e + 0V_f + 0V_g + 0V_h + 0V_i -1i_1 + 0i_2 -1i_3 + 0i_4 +1i_5 = 0\\\\\n        0V_a + 0V_b + 0V_c + 0V_d + 0V_e + 0V_f  -1V_g + 0V_h + 0V_i + 0i_1 -4i_2 + 0i_3 + 0i_4 + 0i_5 = -160\\\\\n        0V_a + 0V_b + 0V_c + 0V_d + 0V_e + 0V_f + 1V_g + 0V_h + 0V_i + 0i_1 + 0i_2 -30i_3 + 0i_4 -20i_5 = 0\\\\\n        0V_a + 0V_b + 0V_c + 0V_d + 0V_e + 0V_f + 0V_g + 0V_h + 0V_i -30i_1 + 5i_2 + 30i_3 + 0i_4 + 0i_5 = 0\\\\\n    \\end{cases}\n$$\n\nE usaremos a biblioteca numpy para resolvê-lo. Primeiro, devemos importar a biblioteca.\n\n## Importando o Numpy",
      "metadata": {
        "tags": []
      },
      "id": "331abcc6"
    },
    {
      "cell_type": "code",
      "source": "%pip install sympy",
      "metadata": {
        "trusted": true
      },
      "execution_count": 2,
      "outputs": [],
      "id": "4ecaf38a-62bf-4523-9b56-731ccd4948a1"
    },
    {
      "cell_type": "code",
      "source": "from sympy import *",
      "metadata": {
        "trusted": true
      },
      "execution_count": 3,
      "outputs": [],
      "id": "8b4d9478-b384-43d8-9ee1-32dcc4532ef4"
    },
    {
      "cell_type": "code",
      "source": "import numpy as np\nimport pandas as pd",
      "metadata": {
        "tags": [],
        "trusted": true
      },
      "execution_count": 4,
      "outputs": [],
      "id": "9e6e5ba3"
    },
    {
      "cell_type": "markdown",
      "source": "## Definindo a matriz A de coeficientes",
      "metadata": {},
      "id": "3882eb8b"
    },
    {
      "cell_type": "code",
      "source": "A = np.array([\n    [1] + [0 for i in range(8)] + [-9] + [0 for i in range(4)],\n    [0, 1] + [0 for i in range(7)] + [-11] + [0 for i in range(4)],\n    [0, 0, 1] + [0 for i in range(6)] + [-10] + [0 for i in range(4)],\n    [0 for i in range(3)] + [1] + [0 for i in range(9)] + [-4],\n    [0 for i in range(4)] + [1] + [0 for i in range(8)] + [-16],\n    [0 for i in range(5)] + [1] + [0 for i in range(8)],\n    [0 for i in range(7)] + [1, 0, 0, -5] + [0 for i in range(3)],\n    [0 for i in range(8)] + [1, 0, 0, -30, 0, 0],\n    [0 for i in range(9)] + [1, 1, 0, 0, 0],\n    [0 for i in range(10)] + [1, -1, -1, 0],\n    [0 for i in range(9)] + [-1, 0, -1, 0, 1],\n    [0 for i in range(6)] + [-1, 0, 0, 0, -5, 0, 0, 0],\n    [0 for i in range(6)] + [1, 0, 0, 0, 0, -30, 0, -20],\n    [0 for i in range(9)] + [-30, 5, 30, 0, 0]\n])",
      "metadata": {
        "trusted": true
      },
      "execution_count": 5,
      "outputs": [],
      "id": "c4e74637"
    },
    {
      "cell_type": "markdown",
      "source": "## Definindo a matriz B de termos independentes",
      "metadata": {},
      "id": "7a578c77"
    },
    {
      "cell_type": "code",
      "source": "B = np.array(\n    [[0] for i in range(5)] + [[60], [0], [0], [-4], [0], [0], [-160], [0], [0]]\n)",
      "metadata": {
        "trusted": true
      },
      "execution_count": 6,
      "outputs": [],
      "id": "c0a726f1"
    },
    {
      "cell_type": "markdown",
      "source": "## Definindo o nome das variáveis",
      "metadata": {},
      "id": "c149dffa"
    },
    {
      "cell_type": "code",
      "source": "nomes_variaveis = ['V_a', 'V_b', 'V_c', 'V_d', 'V_e', 'V_f', 'V_g', 'V_h', 'V_i', 'i_1', 'i_2', 'i_3', 'i_4', 'i_5']",
      "metadata": {
        "trusted": true
      },
      "execution_count": 7,
      "outputs": [],
      "id": "f1ac841c"
    },
    {
      "cell_type": "markdown",
      "source": "## Calculando os resultados",
      "metadata": {},
      "id": "d0a5186b"
    },
    {
      "cell_type": "code",
      "source": "resultados = np.linalg.solve(A, B).ravel()",
      "metadata": {
        "trusted": true
      },
      "execution_count": 8,
      "outputs": [],
      "id": "237e2b71"
    },
    {
      "cell_type": "markdown",
      "source": "### Mostrando os resultados com formatação em latex:",
      "metadata": {
        "tags": []
      },
      "id": "6fac202a"
    },
    {
      "cell_type": "code",
      "source": "from IPython.display import display, Markdown, Latex\n\nunidade = {}\n# 1. Definindo as unidades das variáveis de tensão como Volt\nfor nome_variavel in nomes_variaveis[0:9]:\n    unidade[nome_variavel] = 'V'\n    \n# 2. Definindo as unidades das variáveis de corrente como Ampére\nfor nome_variavel in nomes_variaveis[9:14]:\n    unidade[nome_variavel] = 'A'\n    \n# criando string para armazenar o resultado em formato latex\n\nresultado_tex = '''$$\n\\\\begin{align}\n'''\n\n# adicionando cada resultado em resultado_tex em formato latex\n\nfor nome_variavel, resultado in zip(nomes_variaveis, resultados):\n    resultado_tex += '    &{} = {:.2f}{}\\\\\\\\\\n'.format(nome_variavel, resultado, unidade[nome_variavel])\n\n# finalizando a string\n\nresultado_tex += '''\\end{align}\n$$\n'''\ndisplay(Markdown(resultado_tex))",
      "metadata": {
        "trusted": true
      },
      "execution_count": 9,
      "outputs": [
        {
          "output_type": "display_data",
          "data": {
            "text/plain": "<IPython.core.display.Markdown object>",
            "text/markdown": "$$\n\\begin{align}\n    &V_a = 18.00V\\\\\n    &V_b = 22.00V\\\\\n    &V_c = 20.00V\\\\\n    &V_d = 20.00V\\\\\n    &V_e = 80.00V\\\\\n    &V_f = 60.00V\\\\\n    &V_g = 190.00V\\\\\n    &V_h = -30.00V\\\\\n    &V_i = 90.00V\\\\\n    &i_1 = 2.00A\\\\\n    &i_2 = -6.00A\\\\\n    &i_3 = 3.00A\\\\\n    &i_4 = -9.00A\\\\\n    &i_5 = 5.00A\\\\\n\\end{align}\n$$\n"
          },
          "metadata": {}
        }
      ],
      "id": "ff096c7d"
    },
    {
      "cell_type": "code",
      "source": "",
      "metadata": {},
      "execution_count": null,
      "outputs": [],
      "id": "f222e6f5-da7f-4488-ba3c-ad9e98966813"
    }
  ]
}